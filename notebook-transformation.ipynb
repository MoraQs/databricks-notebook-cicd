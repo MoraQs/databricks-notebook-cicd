{
 "cells": [
  {
   "cell_type": "code",
   "execution_count": 0,
   "metadata": {
    "application/vnd.databricks.v1+cell": {
     "cellMetadata": {
      "byteLimit": 2048000,
      "rowLimit": 10000
     },
     "inputWidgets": {},
     "nuid": "3e7f2ecc-940f-4654-92b0-479dd51e96a7",
     "showTitle": false,
     "tableResultSettingsMap": {},
     "title": ""
    }
   },
   "outputs": [],
   "source": [
    "# Load multiple tables from Unity Catalog\n",
    "\n",
    "tbl_customers = spark.table(\"workspace.default.customers\")\n",
    "tbl_products = spark.table(\"workspace.default.products\")\n",
    "tbl_orders = spark.table(\"workspace.default.orders\")\n",
    "tbl_order_items = spark.table(\"workspace.default.order_items\")\n",
    "\n",
    "\n",
    "display(tbl_customers)\n",
    "display(tbl_products)\n",
    "display(tbl_orders)\n",
    "display(tbl_order_items)"
   ]
  }
 ],
 "metadata": {
  "application/vnd.databricks.v1+notebook": {
   "computePreferences": null,
   "dashboards": [],
   "environmentMetadata": {
    "base_environment": "",
    "environment_version": "2"
   },
   "inputWidgetPreferences": null,
   "language": "python",
   "notebookMetadata": {
    "pythonIndentUnit": 4
   },
   "notebookName": "notebook-transformation",
   "widgets": {}
  },
  "language_info": {
   "name": "python"
  }
 },
 "nbformat": 4,
 "nbformat_minor": 0
}
