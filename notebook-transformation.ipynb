{
 "cells": [
  {
   "cell_type": "markdown",
   "metadata": {
    "application/vnd.databricks.v1+cell": {
     "cellMetadata": {},
     "inputWidgets": {},
     "nuid": "bb09b381-8581-4d40-8e1b-7fd7a4f80179",
     "showTitle": false,
     "tableResultSettingsMap": {},
     "title": ""
    }
   },
   "source": [
    "# Data Transformation"
   ]
  },
  {
   "cell_type": "code",
   "execution_count": 0,
   "metadata": {
    "application/vnd.databricks.v1+cell": {
     "cellMetadata": {
      "byteLimit": 2048000,
      "implicitDf": true,
      "rowLimit": 10000
     },
     "inputWidgets": {},
     "nuid": "68df3e34-2692-4468-a1fb-c16ec773650c",
     "showTitle": false,
     "tableResultSettingsMap": {},
     "title": ""
    }
   },
   "outputs": [],
   "source": [
    "-- customer_dim\n",
    "\n",
    "select\n",
    "  customer_id,\n",
    "  name as customer_name,\n",
    "  email as email_address,\n",
    "  city\n",
    "from customers"
   ]
  },
  {
   "cell_type": "code",
   "execution_count": 0,
   "metadata": {
    "application/vnd.databricks.v1+cell": {
     "cellMetadata": {
      "byteLimit": 2048000,
      "rowLimit": 10000
     },
     "inputWidgets": {},
     "nuid": "64a63e5a-3ca4-4db4-8ddf-80733a404b44",
     "showTitle": false,
     "tableResultSettingsMap": {},
     "title": ""
    }
   },
   "outputs": [],
   "source": [
    "-- normalized fact table orders_fact\n",
    "\n",
    "select\n",
    "  oi.item_id as line_item_id,\n",
    "  oi.order_id,\n",
    "  oi.product_id,\n",
    "  oi.quantity,\n",
    "  o.order_date,\n",
    "  o.customer_id,\n",
    "  pr.price as unit_price,\n",
    "  round(pr.price * oi.quantity, 2) as total_price\n",
    "from order_items as oi \n",
    "left join orders as o \n",
    "  on oi.order_id = o.order_id\n",
    "left join products as pr \n",
    "  on oi.product_id = pr.product_id"
   ]
  },
  {
   "cell_type": "code",
   "execution_count": 0,
   "metadata": {
    "application/vnd.databricks.v1+cell": {
     "cellMetadata": {
      "byteLimit": 2048000,
      "rowLimit": 10000
     },
     "inputWidgets": {},
     "nuid": "ca999491-c14d-4db4-9d0c-e5e5908de5f4",
     "showTitle": false,
     "tableResultSettingsMap": {},
     "title": ""
    }
   },
   "outputs": [],
   "source": [
    "-- products_dim\n",
    "\n",
    "select\n",
    "  product_id,\n",
    "  product_name,\n",
    "  category as product_category\n",
    "from products"
   ]
  },
  {
   "cell_type": "code",
   "execution_count": 0,
   "metadata": {
    "application/vnd.databricks.v1+cell": {
     "cellMetadata": {
      "byteLimit": 2048000,
      "rowLimit": 10000
     },
     "inputWidgets": {},
     "nuid": "6087684f-87f6-44bd-a44c-8113ce2abd8b",
     "showTitle": false,
     "tableResultSettingsMap": {},
     "title": ""
    }
   },
   "outputs": [],
   "source": [
    "-- date_dim\n",
    "\n",
    "select\n",
    "  order_date as date,\n",
    "  year(order_date) as year,\n",
    "  month(order_date) as month,\n",
    "  day(order_date) as day,\n",
    "  weekofyear(order_date) as week_of_year,\n",
    "  dayofweek(order_date) as day_of_week,\n",
    "  case \n",
    "    when dayofweek(order_date) in (1, 7) then 'Weekend'\n",
    "    else 'Weekday'\n",
    "  end as day_type,\n",
    "  date_format(order_date, 'MMMM') as month_text,\n",
    "  date_format(order_date, 'EEEE') as day_of_week_text\n",
    "from orders\n",
    "group by order_date"
   ]
  },
  {
   "cell_type": "code",
   "execution_count": 0,
   "metadata": {
    "application/vnd.databricks.v1+cell": {
     "cellMetadata": {
      "byteLimit": 2048000,
      "rowLimit": 10000
     },
     "inputWidgets": {},
     "nuid": "4dcf16eb-102c-47be-a04a-404553aca2ca",
     "showTitle": false,
     "tableResultSettingsMap": {},
     "title": ""
    }
   },
   "outputs": [],
   "source": [
    "create schema if not exists transformed_data;\n",
    "\n",
    "create table if not exists transformed_data.products_dim as\n",
    "select\n",
    "  product_id,\n",
    "  product_name,\n",
    "  category as product_category\n",
    "from workspace.default.products;\n",
    "\n",
    "create table if not exists transformed_data.date_dim as\n",
    "select\n",
    "  order_date as date,\n",
    "  year(order_date) as year,\n",
    "  month(order_date) as month,\n",
    "  day(order_date) as day,\n",
    "  weekofyear(order_date) as week_of_year,\n",
    "  dayofweek(order_date) as day_of_week,\n",
    "  case \n",
    "    when dayofweek(order_date) in (1, 7) then 'Weekend'\n",
    "    else 'Weekday'\n",
    "  end as day_type,\n",
    "  date_format(order_date, 'MMMM') as month_name,\n",
    "  date_format(order_date, 'EEEE') as day_of_week_name\n",
    "from workspace.default.orders\n",
    "group by order_date;\n",
    "\n",
    "\n",
    "create table if not exists transformed_data.orders_fact as\n",
    "select\n",
    "  oi.item_id as line_item_id,\n",
    "  oi.order_id,\n",
    "  oi.product_id,\n",
    "  oi.quantity,\n",
    "  o.order_date,\n",
    "  o.customer_id,\n",
    "  pr.price as unit_price,\n",
    "  round(pr.price * oi.quantity, 2) as total_price\n",
    "from workspace.default.order_items as oi \n",
    "left join workspace.default.orders as o \n",
    "  on oi.order_id = o.order_id\n",
    "left join products as pr \n",
    "  on oi.product_id = pr.product_id;\n",
    "\n",
    "\n",
    "create table if not exists transformed_data.customer_dim as\n",
    "select\n",
    "  customer_id,\n",
    "  name as customer_name,\n",
    "  email as email_address,\n",
    "  city\n",
    "from workspace.default.customers\n"
   ]
  }
 ],
 "metadata": {
  "application/vnd.databricks.v1+notebook": {
   "computePreferences": null,
   "dashboards": [],
   "environmentMetadata": {
    "base_environment": "",
    "environment_version": "2"
   },
   "inputWidgetPreferences": null,
   "language": "sql",
   "notebookMetadata": {
    "mostRecentlyExecutedCommandWithImplicitDF": {
     "commandId": -1,
     "dataframes": [
      "_sqldf"
     ]
    },
    "pythonIndentUnit": 4
   },
   "notebookName": "notebook-transformation",
   "widgets": {}
  },
  "language_info": {
   "name": "sql"
  }
 },
 "nbformat": 4,
 "nbformat_minor": 0
}
