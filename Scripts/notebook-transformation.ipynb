{
 "cells": [
  {
   "cell_type": "markdown",
   "metadata": {
    "application/vnd.databricks.v1+cell": {
     "cellMetadata": {},
     "inputWidgets": {},
     "nuid": "bb09b381-8581-4d40-8e1b-7fd7a4f80179",
     "showTitle": false,
     "tableResultSettingsMap": {},
     "title": ""
    }
   },
   "source": [
    "# Data Transformation"
   ]
  },
  {
   "cell_type": "code",
   "execution_count": 0,
   "metadata": {
    "application/vnd.databricks.v1+cell": {
     "cellMetadata": {
      "byteLimit": 2048000,
      "rowLimit": 10000
     },
     "inputWidgets": {},
     "nuid": "9a1e67a2-4cca-4853-952f-ff182ed4c51b",
     "showTitle": false,
     "tableResultSettingsMap": {},
     "title": ""
    }
   },
   "outputs": [],
   "source": [
    "-- CREATE SCHEMA TO STORE TRANSFORMED DATA\n",
    "\n",
    "create schema if not exists transformed_data;"
   ]
  },
  {
   "cell_type": "markdown",
   "metadata": {
    "application/vnd.databricks.v1+cell": {
     "cellMetadata": {},
     "inputWidgets": {},
     "nuid": "769d2a9a-67d8-4d88-a202-34bc460cf6df",
     "showTitle": false,
     "tableResultSettingsMap": {},
     "title": ""
    }
   },
   "source": [
    "## Create Products Dimension"
   ]
  },
  {
   "cell_type": "code",
   "execution_count": 0,
   "metadata": {
    "application/vnd.databricks.v1+cell": {
     "cellMetadata": {
      "byteLimit": 2048000,
      "rowLimit": 10000
     },
     "inputWidgets": {},
     "nuid": "40d79306-faa9-48a2-b892-1a93a8a9f3b1",
     "showTitle": false,
     "tableResultSettingsMap": {},
     "title": ""
    }
   },
   "outputs": [],
   "source": [
    "create table if not exists transformed_data.products_dim as\n",
    "select\n",
    "  product_id,\n",
    "  product_name,\n",
    "  category as product_category\n",
    "from workspace.default.products;"
   ]
  },
  {
   "cell_type": "markdown",
   "metadata": {
    "application/vnd.databricks.v1+cell": {
     "cellMetadata": {},
     "inputWidgets": {},
     "nuid": "42a89672-3ad0-488a-aa01-0c9b701157b2",
     "showTitle": false,
     "tableResultSettingsMap": {},
     "title": ""
    }
   },
   "source": [
    "## Create Orders Fact Table"
   ]
  },
  {
   "cell_type": "code",
   "execution_count": 0,
   "metadata": {
    "application/vnd.databricks.v1+cell": {
     "cellMetadata": {
      "byteLimit": 2048000,
      "rowLimit": 10000
     },
     "inputWidgets": {},
     "nuid": "27ec36fc-a631-43b8-a142-f83bc547719d",
     "showTitle": false,
     "tableResultSettingsMap": {},
     "title": ""
    }
   },
   "outputs": [],
   "source": [
    "-- Incrementally load orders_fact\n",
    "\n",
    "MERGE INTO transformed_data.orders_fact AS target\n",
    "USING (\n",
    "  SELECT\n",
    "    oi.item_id AS line_item_id,\n",
    "    oi.order_id,\n",
    "    oi.product_id,\n",
    "    oi.quantity,\n",
    "    o.order_date,\n",
    "    o.customer_id,\n",
    "    pr.price AS unit_price,\n",
    "    ROUND(pr.price * oi.quantity, 2) AS total_price\n",
    "  FROM workspace.default.order_items AS oi\n",
    "  LEFT JOIN workspace.default.orders AS o \n",
    "    ON oi.order_id = o.order_id\n",
    "  LEFT JOIN workspace.default.products AS pr \n",
    "    ON oi.product_id = pr.product_id\n",
    "  WHERE o.order_date > (\n",
    "    SELECT COALESCE(MAX(order_date), DATE('2000-01-01'))\n",
    "    FROM transformed_data.orders_fact\n",
    "  )\n",
    ") AS source\n",
    "ON target.line_item_id = source.line_item_id\n",
    "\n",
    "WHEN MATCHED THEN UPDATE SET\n",
    "  quantity = source.quantity,\n",
    "  order_id = source.order_id,\n",
    "  product_id = source.product_id,\n",
    "  order_date = source.order_date,\n",
    "  customer_id = source.customer_id,\n",
    "  unit_price = source.unit_price,\n",
    "  total_price = source.total_price\n",
    "\n",
    "WHEN NOT MATCHED THEN INSERT (\n",
    "  line_item_id, order_id, product_id, quantity, order_date, customer_id, unit_price, total_price\n",
    ") VALUES (\n",
    "  source.line_item_id, source.order_id, source.product_id, source.quantity,\n",
    "  source.order_date, source.customer_id, source.unit_price, source.total_price\n",
    ");\n"
   ]
  },
  {
   "cell_type": "markdown",
   "metadata": {
    "application/vnd.databricks.v1+cell": {
     "cellMetadata": {},
     "inputWidgets": {},
     "nuid": "fa238322-8478-4157-abe6-ee2ee70fcb1f",
     "showTitle": false,
     "tableResultSettingsMap": {},
     "title": ""
    }
   },
   "source": [
    "## Create Customer Dimension"
   ]
  },
  {
   "cell_type": "code",
   "execution_count": 0,
   "metadata": {
    "application/vnd.databricks.v1+cell": {
     "cellMetadata": {
      "byteLimit": 2048000,
      "rowLimit": 10000
     },
     "inputWidgets": {},
     "nuid": "c92aa7ad-fd07-4282-9d80-17d68ee9e8b2",
     "showTitle": false,
     "tableResultSettingsMap": {},
     "title": ""
    }
   },
   "outputs": [],
   "source": [
    "create table if not exists transformed_data.customer_dim as\n",
    "select\n",
    "  customer_id,\n",
    "  name as customer_name,\n",
    "  email as email_address,\n",
    "  city\n",
    "from workspace.default.customers;"
   ]
  },
  {
   "cell_type": "markdown",
   "metadata": {
    "application/vnd.databricks.v1+cell": {
     "cellMetadata": {},
     "inputWidgets": {},
     "nuid": "41816e4b-c9e1-4824-86c1-ce9a8af3b7d9",
     "showTitle": false,
     "tableResultSettingsMap": {},
     "title": ""
    }
   },
   "source": [
    "## Create Date Dimension"
   ]
  },
  {
   "cell_type": "code",
   "execution_count": 0,
   "metadata": {
    "application/vnd.databricks.v1+cell": {
     "cellMetadata": {
      "byteLimit": 2048000,
      "rowLimit": 10000
     },
     "inputWidgets": {},
     "nuid": "5f48a1bb-8d2d-4faf-884f-c1ac0be50bfe",
     "showTitle": false,
     "tableResultSettingsMap": {},
     "title": ""
    }
   },
   "outputs": [],
   "source": [
    "create table if not exists transformed_data.date_dim as\n",
    "select\n",
    "  order_date as date,\n",
    "  year(order_date) as year,\n",
    "  month(order_date) as month,\n",
    "  day(order_date) as day,\n",
    "  weekofyear(order_date) as week_of_year,\n",
    "  dayofweek(order_date) as day_of_week,\n",
    "  case \n",
    "    when dayofweek(order_date) in (1, 7) then 'Weekend'\n",
    "    else 'Weekday'\n",
    "  end as day_type,\n",
    "  date_format(order_date, 'MMMM') as month_name,\n",
    "  date_format(order_date, 'EEEE') as day_of_week_name\n",
    "from workspace.default.orders\n",
    "group by order_date;"
   ]
  }
 ],
 "metadata": {
  "application/vnd.databricks.v1+notebook": {
   "computePreferences": null,
   "dashboards": [],
   "environmentMetadata": {
    "base_environment": "",
    "environment_version": "2"
   },
   "inputWidgetPreferences": null,
   "language": "sql",
   "notebookMetadata": {
    "mostRecentlyExecutedCommandWithImplicitDF": {
     "commandId": -1,
     "dataframes": [
      "_sqldf"
     ]
    },
    "pythonIndentUnit": 4
   },
   "notebookName": "notebook-transformation",
   "widgets": {}
  },
  "language_info": {
   "name": "sql"
  }
 },
 "nbformat": 4,
 "nbformat_minor": 0
}
